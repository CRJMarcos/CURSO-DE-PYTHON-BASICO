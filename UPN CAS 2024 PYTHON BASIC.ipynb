{
  "nbformat": 4,
  "nbformat_minor": 0,
  "metadata": {
    "colab": {
      "provenance": [],
      "authorship_tag": "ABX9TyN9SYRkZqxsp6LWCefXYb72",
      "include_colab_link": true
    },
    "kernelspec": {
      "name": "python3",
      "display_name": "Python 3"
    },
    "language_info": {
      "name": "python"
    }
  },
  "cells": [
    {
      "cell_type": "markdown",
      "metadata": {
        "id": "view-in-github",
        "colab_type": "text"
      },
      "source": [
        "<a href=\"https://colab.research.google.com/github/CRJMarcos/CURSO-DE-PYTHON-BASICO/blob/main/UPN%20CAS%202024%20PYTHON%20BASIC.ipynb\" target=\"_parent\"><img src=\"https://colab.research.google.com/assets/colab-badge.svg\" alt=\"Open In Colab\"/></a>"
      ]
    },
    {
      "cell_type": "code",
      "execution_count": null,
      "metadata": {
        "id": "rPRsgtIip9q0"
      },
      "outputs": [],
      "source": [
        "#hola mundo"
      ]
    },
    {
      "cell_type": "code",
      "source": [
        "p = \"Hola mundo\"\n",
        "print(p)"
      ],
      "metadata": {
        "id": "1_U6aT6zrzyT"
      },
      "execution_count": null,
      "outputs": []
    },
    {
      "cell_type": "code",
      "source": [],
      "metadata": {
        "id": "y1SFNxrsssKk"
      },
      "execution_count": null,
      "outputs": []
    }
  ]
}